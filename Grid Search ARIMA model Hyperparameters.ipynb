{
 "cells": [
  {
   "cell_type": "code",
   "execution_count": 1,
   "metadata": {},
   "outputs": [],
   "source": [
    "import pandas as pd\n",
    "import matplotlib.pyplot as plt\n",
    "import numpy as np"
   ]
  },
  {
   "cell_type": "code",
   "execution_count": 2,
   "metadata": {},
   "outputs": [],
   "source": [
    "import warnings\n",
    "from math import sqrt"
   ]
  },
  {
   "cell_type": "code",
   "execution_count": 3,
   "metadata": {},
   "outputs": [],
   "source": [
    "from statsmodels.tsa.arima_model import ARIMA\n",
    "from sklearn.metrics import mean_squared_error"
   ]
  },
  {
   "cell_type": "code",
   "execution_count": null,
   "metadata": {},
   "outputs": [],
   "source": []
  },
  {
   "cell_type": "code",
   "execution_count": 4,
   "metadata": {},
   "outputs": [],
   "source": [
    "# evaluate an ARIMA model for a given order (p,d,q)\n",
    "def evaluate_arima_model(X, arima_order):\n",
    "    \n",
    "    # prepare training dataset\n",
    "    train_size = int(len(X) * 0.66)\n",
    "    train, test = X[0:train_size], X[train_size:]\n",
    "    history = [x for x in train]\n",
    "    \n",
    "    # make predictions\n",
    "    \n",
    "    predictions = list()\n",
    "    \n",
    "    for t in range(len(test)):\n",
    "        model = ARIMA(history, order=arima_order)\n",
    "        model_fit = model.fit(disp=0)\n",
    "        yhat = model_fit.forecast()[0]\n",
    "        predictions.append(yhat)\n",
    "        history.append(test[t])\n",
    "    \n",
    "    # calculate out of sample error\n",
    "    rmse = sqrt(mean_squared_error(test, predictions))\n",
    "    \n",
    "    return rmse    "
   ]
  },
  {
   "cell_type": "code",
   "execution_count": null,
   "metadata": {},
   "outputs": [],
   "source": []
  },
  {
   "cell_type": "code",
   "execution_count": 5,
   "metadata": {},
   "outputs": [],
   "source": [
    "# evaluate combinations of p, d and q values for an ARIMA model\n",
    "def evaluate_models(dataset, p_values, d_values, q_values):\n",
    "    \n",
    "    dataset = dataset.astype('float32')\n",
    "    \n",
    "    best_score, best_cfg = float(\"inf\"), None\n",
    "    \n",
    "    for p in p_values:\n",
    "        for d in d_values:\n",
    "            for q in q_values:\n",
    "                order = (p,d,q)\n",
    "                try:\n",
    "                    rmse = evaluate_arima_model(dataset, order)\n",
    "                    if rmse < best_score:\n",
    "                        best_score, best_cfg = rmse, order\n",
    "                    print('ARIMA%s RMSE=%.3f' % (order,rmse))\n",
    "                except:\n",
    "                    continue\n",
    "    print('Best ARIMA%s RMSE=%.3f' % (best_cfg, best_score))"
   ]
  },
  {
   "cell_type": "code",
   "execution_count": null,
   "metadata": {},
   "outputs": [],
   "source": []
  },
  {
   "cell_type": "code",
   "execution_count": 6,
   "metadata": {},
   "outputs": [],
   "source": [
    "# load dataset\n",
    "def parser(x):\n",
    "    return pd.datetime.strptime('190'+x, '%Y-%m')"
   ]
  },
  {
   "cell_type": "code",
   "execution_count": null,
   "metadata": {},
   "outputs": [],
   "source": []
  },
  {
   "cell_type": "code",
   "execution_count": 7,
   "metadata": {},
   "outputs": [
    {
     "name": "stderr",
     "output_type": "stream",
     "text": [
      "<ipython-input-6-8b6ce3fd2c62>:3: FutureWarning: The pandas.datetime class is deprecated and will be removed from pandas in a future version. Import from datetime module instead.\n",
      "  return pd.datetime.strptime('190'+x, '%Y-%m')\n"
     ]
    }
   ],
   "source": [
    "series = pd.read_csv('shampoo_sales.csv', header=0, index_col=0, parse_dates=True,\n",
    "squeeze=True, date_parser=parser)"
   ]
  },
  {
   "cell_type": "code",
   "execution_count": null,
   "metadata": {},
   "outputs": [],
   "source": []
  },
  {
   "cell_type": "code",
   "execution_count": 8,
   "metadata": {},
   "outputs": [],
   "source": [
    "# evaluate parameters\n",
    "p_values = [0, 1, 2, 4, 6, 8, 10]\n",
    "d_values = range(0, 3)\n",
    "q_values = range(0, 3)"
   ]
  },
  {
   "cell_type": "code",
   "execution_count": 9,
   "metadata": {},
   "outputs": [],
   "source": [
    "warnings.filterwarnings(\"ignore\")"
   ]
  },
  {
   "cell_type": "code",
   "execution_count": null,
   "metadata": {},
   "outputs": [],
   "source": []
  },
  {
   "cell_type": "code",
   "execution_count": 10,
   "metadata": {},
   "outputs": [
    {
     "name": "stdout",
     "output_type": "stream",
     "text": [
      "ARIMA(0, 0, 0) RMSE=228.966\n",
      "ARIMA(0, 0, 1) RMSE=195.308\n",
      "ARIMA(0, 0, 2) RMSE=154.886\n",
      "ARIMA(0, 1, 0) RMSE=134.176\n",
      "ARIMA(0, 1, 1) RMSE=97.766\n",
      "ARIMA(0, 1, 2) RMSE=79.416\n",
      "ARIMA(0, 2, 0) RMSE=259.499\n",
      "ARIMA(0, 2, 1) RMSE=135.360\n",
      "ARIMA(1, 0, 0) RMSE=152.030\n",
      "ARIMA(1, 0, 2) RMSE=85.391\n",
      "ARIMA(1, 1, 0) RMSE=84.388\n",
      "ARIMA(1, 1, 1) RMSE=83.688\n",
      "ARIMA(1, 2, 0) RMSE=136.411\n",
      "ARIMA(2, 0, 0) RMSE=100.879\n",
      "ARIMA(2, 1, 0) RMSE=75.432\n",
      "ARIMA(2, 1, 1) RMSE=88.089\n",
      "ARIMA(2, 2, 0) RMSE=99.302\n",
      "ARIMA(4, 0, 0) RMSE=85.670\n",
      "ARIMA(4, 1, 0) RMSE=81.545\n",
      "ARIMA(4, 1, 1) RMSE=82.439\n",
      "ARIMA(4, 2, 0) RMSE=87.157\n",
      "ARIMA(4, 2, 1) RMSE=68.519\n",
      "ARIMA(6, 0, 0) RMSE=94.309\n",
      "ARIMA(6, 1, 0) RMSE=82.523\n",
      "ARIMA(6, 1, 1) RMSE=67.619\n",
      "ARIMA(6, 2, 0) RMSE=79.127\n",
      "ARIMA(8, 1, 0) RMSE=81.114\n",
      "ARIMA(10, 1, 0) RMSE=86.802\n",
      "Best ARIMA(6, 1, 1) RMSE=67.619\n"
     ]
    }
   ],
   "source": [
    "evaluate_models(series.values, p_values, d_values, q_values)"
   ]
  },
  {
   "cell_type": "code",
   "execution_count": null,
   "metadata": {},
   "outputs": [],
   "source": []
  },
  {
   "cell_type": "code",
   "execution_count": 11,
   "metadata": {},
   "outputs": [],
   "source": [
    "series1 = pd.read_csv('daily-total-female-births.csv', header=0, index_col=0, parse_dates=True,\n",
    "squeeze=True)"
   ]
  },
  {
   "cell_type": "code",
   "execution_count": null,
   "metadata": {},
   "outputs": [],
   "source": []
  },
  {
   "cell_type": "code",
   "execution_count": null,
   "metadata": {},
   "outputs": [
    {
     "name": "stdout",
     "output_type": "stream",
     "text": [
      "ARIMA(0, 0, 0) RMSE=8.189\n",
      "ARIMA(0, 0, 1) RMSE=7.884\n",
      "ARIMA(0, 0, 2) RMSE=7.771\n",
      "ARIMA(0, 1, 0) RMSE=9.167\n",
      "ARIMA(0, 1, 1) RMSE=7.527\n",
      "ARIMA(0, 1, 2) RMSE=7.434\n",
      "ARIMA(0, 2, 0) RMSE=15.698\n",
      "ARIMA(0, 2, 1) RMSE=9.201\n",
      "ARIMA(0, 2, 2) RMSE=7.548\n",
      "ARIMA(1, 0, 0) RMSE=7.802\n",
      "ARIMA(1, 0, 1) RMSE=7.554\n",
      "ARIMA(1, 1, 0) RMSE=8.120\n",
      "ARIMA(1, 1, 1) RMSE=7.425\n",
      "ARIMA(1, 1, 2) RMSE=7.429\n",
      "ARIMA(1, 2, 0) RMSE=11.990\n",
      "ARIMA(2, 0, 0) RMSE=7.697\n",
      "ARIMA(2, 0, 1) RMSE=7.421\n",
      "ARIMA(2, 0, 2) RMSE=7.470\n",
      "ARIMA(2, 1, 0) RMSE=7.713\n",
      "ARIMA(2, 1, 1) RMSE=7.417\n",
      "ARIMA(2, 1, 2) RMSE=7.433\n",
      "ARIMA(2, 2, 0) RMSE=10.373\n",
      "ARIMA(4, 0, 0) RMSE=7.693\n",
      "ARIMA(4, 0, 1) RMSE=7.825\n",
      "ARIMA(4, 0, 2) RMSE=7.455\n",
      "ARIMA(4, 1, 0) RMSE=7.578\n",
      "ARIMA(4, 1, 1) RMSE=7.474\n",
      "ARIMA(4, 1, 2) RMSE=7.464\n",
      "ARIMA(4, 2, 0) RMSE=8.956\n",
      "ARIMA(6, 0, 0) RMSE=7.666\n",
      "ARIMA(6, 0, 1) RMSE=7.711\n",
      "ARIMA(6, 1, 0) RMSE=7.293\n",
      "ARIMA(6, 1, 1) RMSE=7.554\n",
      "ARIMA(6, 1, 2) RMSE=7.464\n",
      "ARIMA(6, 2, 0) RMSE=8.352\n",
      "ARIMA(8, 0, 0) RMSE=7.549\n",
      "ARIMA(8, 0, 1) RMSE=7.565\n",
      "ARIMA(8, 0, 2) RMSE=7.625\n",
      "ARIMA(8, 1, 0) RMSE=7.569\n",
      "ARIMA(8, 1, 1) RMSE=7.430\n",
      "ARIMA(8, 1, 2) RMSE=7.435\n",
      "ARIMA(8, 2, 0) RMSE=8.126\n",
      "ARIMA(8, 2, 1) RMSE=7.603\n"
     ]
    }
   ],
   "source": [
    "evaluate_models(series1.values, p_values, d_values, q_values)"
   ]
  },
  {
   "cell_type": "code",
   "execution_count": null,
   "metadata": {},
   "outputs": [],
   "source": []
  }
 ],
 "metadata": {
  "kernelspec": {
   "display_name": "Python 3",
   "language": "python",
   "name": "python3"
  },
  "language_info": {
   "codemirror_mode": {
    "name": "ipython",
    "version": 3
   },
   "file_extension": ".py",
   "mimetype": "text/x-python",
   "name": "python",
   "nbconvert_exporter": "python",
   "pygments_lexer": "ipython3",
   "version": "3.8.3"
  }
 },
 "nbformat": 4,
 "nbformat_minor": 4
}
